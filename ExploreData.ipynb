{
  "nbformat": 4,
  "nbformat_minor": 0,
  "metadata": {
    "colab": {
      "name": "ExploreData.ipynb",
      "provenance": [],
      "authorship_tag": "ABX9TyNxtlxRNz3R5SJ7Hk88HMmX",
      "include_colab_link": true
    },
    "kernelspec": {
      "name": "python3",
      "display_name": "Python 3"
    }
  },
  "cells": [
    {
      "cell_type": "markdown",
      "metadata": {
        "id": "view-in-github",
        "colab_type": "text"
      },
      "source": [
        "<a href=\"https://colab.research.google.com/github/a-gasior/DSA/blob/master/ExploreData.ipynb\" target=\"_parent\"><img src=\"https://colab.research.google.com/assets/colab-badge.svg\" alt=\"Open In Colab\"/></a>"
      ]
    },
    {
      "cell_type": "code",
      "metadata": {
        "id": "nEoJPH9cy3OR",
        "colab_type": "code",
        "colab": {
          "base_uri": "https://localhost:8080/",
          "height": 34
        },
        "outputId": "8266ffd4-87af-4287-b5e3-b718111c9b6f"
      },
      "source": [
        "from google.colab import drive\n",
        "drive.mount('/content/drive')\n",
        "data_path = 'drive/My Drive/Data Solution Analyst Case Study/Data/data.csv'"
      ],
      "execution_count": 1,
      "outputs": [
        {
          "output_type": "stream",
          "text": [
            "Mounted at /content/drive\n"
          ],
          "name": "stdout"
        }
      ]
    },
    {
      "cell_type": "code",
      "metadata": {
        "id": "lGoIWLRN0ATz",
        "colab_type": "code",
        "colab": {}
      },
      "source": [
        "import pandas as pd\n",
        "import matplotlib.pyplot as plt"
      ],
      "execution_count": 35,
      "outputs": []
    },
    {
      "cell_type": "code",
      "metadata": {
        "id": "tFQIi6s66Q7X",
        "colab_type": "code",
        "colab": {}
      },
      "source": [
        "def plot_to_file(plot,plot_name):\n",
        "  images_out = 'drive/My Drive/Data Solution Analyst Case Study/images/'\n",
        "  fig = plot.get_figure()\n",
        "  fig.savefig(images_out+plot_name+'.png')\n",
        "\n",
        "def fig_to_file(fig,plot_name):\n",
        "  images_out = 'drive/My Drive/Data Solution Analyst Case Study/images/'\n",
        "  fig.savefig(images_out+plot_name+'.png')"
      ],
      "execution_count": 73,
      "outputs": []
    },
    {
      "cell_type": "code",
      "metadata": {
        "id": "Pxlxe-g6zhlL",
        "colab_type": "code",
        "colab": {
          "base_uri": "https://localhost:8080/",
          "height": 306
        },
        "outputId": "66db7be1-1705-4454-da40-a62a8a0045a9"
      },
      "source": [
        "df = pd.read_csv(data_path)\n",
        "df['y'].value_counts().plot(kind='bar',title='Distribution of Client Subscription to Term Deposit')"
      ],
      "execution_count": 4,
      "outputs": [
        {
          "output_type": "execute_result",
          "data": {
            "text/plain": [
              "<matplotlib.axes._subplots.AxesSubplot at 0x7f90adca42b0>"
            ]
          },
          "metadata": {
            "tags": []
          },
          "execution_count": 4
        },
        {
          "output_type": "display_data",
          "data": {
            "image/png": "[encoded data removed]",
            "text/plain": [
              "<Figure size 432x288 with 1 Axes>"
            ]
          },
          "metadata": {
            "tags": [],
            "needs_background": "light"
          }
        }
      ]
    },
    {
      "cell_type": "code",
      "metadata": {
        "id": "hHjinR8lzwue",
        "colab_type": "code",
        "colab": {}
      },
      "source": [
        "def transform_y_to_numeric(row):\n",
        "  if row['y'] == 'no':\n",
        "    return 0\n",
        "  else:\n",
        "    return 1"
      ],
      "execution_count": 5,
      "outputs": []
    },
    {
      "cell_type": "code",
      "metadata": {
        "id": "oUd0Bcfp47VD",
        "colab_type": "code",
        "colab": {}
      },
      "source": [
        "df['yNumeric'] = df.apply(lambda row: transform_y_to_numeric(row), axis=1)"
      ],
      "execution_count": 6,
      "outputs": []
    },
    {
      "cell_type": "code",
      "metadata": {
        "id": "LtZvSGn_BQbE",
        "colab_type": "code",
        "colab": {}
      },
      "source": [
        "def calc_brier(row):\n",
        "  return (row['ModelPrediction'] - row['yNumeric'])**2"
      ],
      "execution_count": 7,
      "outputs": []
    },
    {
      "cell_type": "code",
      "metadata": {
        "id": "FK7d0OGvC_El",
        "colab_type": "code",
        "colab": {}
      },
      "source": [
        "df['brierScore'] = df.apply(lambda row: calc_brier(row), axis=1)"
      ],
      "execution_count": 8,
      "outputs": []
    },
    {
      "cell_type": "code",
      "metadata": {
        "id": "24LOJumdEVYF",
        "colab_type": "code",
        "colab": {
          "base_uri": "https://localhost:8080/",
          "height": 34
        },
        "outputId": "b4261fda-0a93-4003-dffa-fcfe5dcfc369"
      },
      "source": [
        "(df['brierScore'].sum())/len(df)"
      ],
      "execution_count": 9,
      "outputs": [
        {
          "output_type": "execute_result",
          "data": {
            "text/plain": [
              "0.7503640549181537"
            ]
          },
          "metadata": {
            "tags": []
          },
          "execution_count": 9
        }
      ]
    },
    {
      "cell_type": "code",
      "metadata": {
        "id": "W5_UCGd-FMRF",
        "colab_type": "code",
        "colab": {}
      },
      "source": [
        "df_pos = df.loc[df['y'] == 'yes']\n",
        "df_neg = df.loc[df['y'] == 'no']"
      ],
      "execution_count": 12,
      "outputs": []
    },
    {
      "cell_type": "code",
      "metadata": {
        "id": "Se31CFzxVy3n",
        "colab_type": "code",
        "colab": {}
      },
      "source": [
        "def create_histograms(col):\n",
        "  attr = col\n",
        "\n",
        "  fig1,((ax_neg, ax_pos)) = plt.subplots(1,2)\n",
        "\n",
        "  y1, x1, _  = ax_neg.hist(df_neg.loc[:,attr])\n",
        "  y2, x2, _ = ax_pos.hist(df_pos.loc[:,attr])\n",
        "\n",
        "  ultra_max = max(y1.max(),y2.max()) + 500\n",
        "\n",
        "\n",
        "  ax_neg.set_title('Did not subscribe')\n",
        "  ax_neg.set_xlabel(attr)\n",
        "  ax_neg.set_ylim([0,ultra_max])\n",
        "\n",
        "  ax_pos.set_title('Did subscribe')\n",
        "  ax_pos.set_xlabel(attr)\n",
        "  ax_pos.set_ylim([0,ultra_max])\n",
        "\n",
        "  fig1.tight_layout()\n",
        "  fig_to_file(fig1,col)"
      ],
      "execution_count": 82,
      "outputs": []
    },
    {
      "cell_type": "code",
      "metadata": {
        "id": "4YHzw4cxXEo_",
        "colab_type": "code",
        "colab": {}
      },
      "source": [
        "for col in df.columns[:-4]:\n",
        "  create_histograms(col)"
      ],
      "execution_count": null,
      "outputs": []
    },
    {
      "cell_type": "code",
      "metadata": {
        "id": "MFbi9xNWaSeH",
        "colab_type": "code",
        "colab": {}
      },
      "source": [
        "fig_to_file(fig1,'job')"
      ],
      "execution_count": 77,
      "outputs": []
    },
    {
      "cell_type": "code",
      "metadata": {
        "id": "YSm19a8maoIe",
        "colab_type": "code",
        "colab": {}
      },
      "source": [
        ""
      ],
      "execution_count": null,
      "outputs": []
    }
  ]
}